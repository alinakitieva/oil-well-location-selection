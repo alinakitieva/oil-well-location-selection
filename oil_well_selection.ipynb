{
 "cells": [
  {
   "cell_type": "markdown",
   "metadata": {},
   "source": [
    "# Выбор локации для скважины"
   ]
  },
  {
   "cell_type": "markdown",
   "metadata": {},
   "source": [
    "Допустим, вы работаете в добывающей компании «ГлавРосГосНефть». Нужно решить, где бурить новую скважину.\n",
    "\n",
    "Вам предоставлены пробы нефти в трёх регионах: в каждом 10 000 месторождений, где измерили качество нефти и объём её запасов. Нужно построить модель машинного обучения, которая поможет определить регион, где добыча принесёт наибольшую прибыль. Проанализируйте возможную прибыль и риски техникой *Bootstrap.*\n",
    "\n",
    "Шаги для выбора локации:\n",
    "\n",
    "- В избранном регионе ищут месторождения, для каждого определяют значения признаков;\n",
    "- Строят модель и оценивают объём запасов;\n",
    "- Выбирают месторождения с самым высокими оценками значений. Количество месторождений зависит от бюджета компании и стоимости разработки одной скважины;\n",
    "- Прибыль равна суммарной прибыли отобранных месторождений."
   ]
  },
  {
   "cell_type": "markdown",
   "metadata": {},
   "source": [
    "**Цель исследования**: определить наиболее перспективный регион для добычи нефти с помощью построения модели, которая предскажет объем запасов нефти в новых скважинах, а также провести анализ возможной прибыли и рисков с использованием техники Bootstrap.\n",
    "\n",
    "**Ход исследования:**  \n",
    "Мы будем решать задачу регрессии с учителем. Необходимо построить модель, которая предсказывает объем запасов нефти в скважинах на основе известных характеристик скважин в трех регионах.\n",
    "\n",
    "1. Загрузка и подготовка данных\n",
    "- Импорт необходимых библиотек.\n",
    "- Загрузка данных из файлов.\n",
    "- Изучение данных на наличие пропусков, дубликатов и выбросов.\n",
    "- Проверка на наличие пропусков и аномалий, предобработка данных при необходимости.\n",
    "\n",
    "2. Обучение и проверка модели для каждого региона\n",
    "- Разделение данных на обучающую и валидационную выборки в соотношении 75:25.\n",
    "- Обучение модели и получение предсказаний на валидационной выборке.\n",
    "- Сохранение предсказаний и правильных ответов на валидационной выборке.\n",
    "- Вывод среднего запаса предсказанного сырья и RMSE модели.\n",
    "- Анализ результатов.\n",
    "\n",
    "3. Подготовка к расчету прибыли\n",
    "- Сохранение ключевых значений для расчетов в отдельных переменных.\n",
    "- Расчет достаточного объема сырья для безубыточной разработки новой скважины и сравнение с средним запасом в каждом регионе.\n",
    "- Выводы по этапу подготовки расчета прибыли.\n",
    "\n",
    "4. Функция для расчета прибыли по выбранным скважинам и предсказаниям модели\n",
    "- Выбор скважин с максимальными значениями предсказаний.\n",
    "- Суммирование целевого значения объема сырья, соответствующего этим предсказаниям.\n",
    "- Расчет прибыли для полученного объема сырья.\n",
    "\n",
    "5. Расчет рисков и прибыли для каждого региона:\n",
    "- Применение техники Bootstrap с 1000 выборок для нахождения распределения прибыли.\n",
    "- Нахождение средней прибыли, 95%-го доверительного интервала и риска убытков.\n",
    "- Выводы и выбор наиболее перспективного региона для добычи нефти."
   ]
  },
  {
   "cell_type": "markdown",
   "metadata": {},
   "source": [
    "## Загрузка и подготовка данных"
   ]
  },
  {
   "cell_type": "markdown",
   "metadata": {},
   "source": [
    "### Импорт библиотек"
   ]
  },
  {
   "cell_type": "code",
   "execution_count": 1,
   "metadata": {},
   "outputs": [],
   "source": [
    "import pandas as pd\n",
    "import matplotlib.pyplot as plt\n",
    "import seaborn as sns\n",
    "import numpy as np\n",
    "from scipy import stats as st\n",
    "from sklearn.preprocessing import StandardScaler\n",
    "from sklearn.model_selection import train_test_split\n",
    "from sklearn.linear_model import LinearRegression\n",
    "from sklearn.metrics import mean_squared_error\n",
    "# import warnings\n",
    "# warnings.filterwarnings(\"ignore\")"
   ]
  },
  {
   "cell_type": "markdown",
   "metadata": {},
   "source": [
    "### Загрузка данных"
   ]
  },
  {
   "cell_type": "code",
   "execution_count": 2,
   "metadata": {},
   "outputs": [],
   "source": [
    "try:\n",
    "    data_0 = pd.read_csv('/datasets/geo_data_0.csv')\n",
    "    data_1 = pd.read_csv('/datasets/geo_data_1.csv')\n",
    "    data_2 = pd.read_csv('/datasets/geo_data_2.csv')\n",
    "except:\n",
    "    data_0 = pd.read_csv('https://code.s3.yandex.net/datasets/geo_data_0.csv')\n",
    "    data_1 = pd.read_csv('https://code.s3.yandex.net/datasets/geo_data_1.csv')\n",
    "    data_2 = pd.read_csv('https://code.s3.yandex.net/datasets/geo_data_2.csv')"
   ]
  },
  {
   "cell_type": "markdown",
   "metadata": {},
   "source": [
    "### Изучение данных"
   ]
  },
  {
   "cell_type": "code",
   "execution_count": 3,
   "metadata": {},
   "outputs": [
    {
     "name": "stdout",
     "output_type": "stream",
     "text": [
      "Data for region 0:\n",
      "      id        f0        f1        f2     product\n",
      "0  txEyH  0.705745 -0.497823  1.221170  105.280062\n",
      "1  2acmU  1.334711 -0.340164  4.365080   73.037750\n",
      "2  409Wp  1.022732  0.151990  1.419926   85.265647\n",
      "3  iJLyR -0.032172  0.139033  2.978566  168.620776\n",
      "4  Xdl7t  1.988431  0.155413  4.751769  154.036647\n",
      "\n",
      "<class 'pandas.core.frame.DataFrame'>\n",
      "RangeIndex: 100000 entries, 0 to 99999\n",
      "Data columns (total 5 columns):\n",
      " #   Column   Non-Null Count   Dtype  \n",
      "---  ------   --------------   -----  \n",
      " 0   id       100000 non-null  object \n",
      " 1   f0       100000 non-null  float64\n",
      " 2   f1       100000 non-null  float64\n",
      " 3   f2       100000 non-null  float64\n",
      " 4   product  100000 non-null  float64\n",
      "dtypes: float64(4), object(1)\n",
      "memory usage: 3.8+ MB\n",
      "None\n"
     ]
    }
   ],
   "source": [
    "print(\"Data for region 0:\")\n",
    "print(data_0.head())\n",
    "print()\n",
    "print(data_0.info())"
   ]
  },
  {
   "cell_type": "code",
   "execution_count": 4,
   "metadata": {},
   "outputs": [
    {
     "name": "stdout",
     "output_type": "stream",
     "text": [
      "Data for region 1:\n",
      "      id         f0         f1        f2     product\n",
      "0  kBEdx -15.001348  -8.276000 -0.005876    3.179103\n",
      "1  62mP7  14.272088  -3.475083  0.999183   26.953261\n",
      "2  vyE1P   6.263187  -5.948386  5.001160  134.766305\n",
      "3  KcrkZ -13.081196 -11.506057  4.999415  137.945408\n",
      "4  AHL4O  12.702195  -8.147433  5.004363  134.766305\n",
      "\n",
      "<class 'pandas.core.frame.DataFrame'>\n",
      "RangeIndex: 100000 entries, 0 to 99999\n",
      "Data columns (total 5 columns):\n",
      " #   Column   Non-Null Count   Dtype  \n",
      "---  ------   --------------   -----  \n",
      " 0   id       100000 non-null  object \n",
      " 1   f0       100000 non-null  float64\n",
      " 2   f1       100000 non-null  float64\n",
      " 3   f2       100000 non-null  float64\n",
      " 4   product  100000 non-null  float64\n",
      "dtypes: float64(4), object(1)\n",
      "memory usage: 3.8+ MB\n",
      "None\n"
     ]
    }
   ],
   "source": [
    "print(\"Data for region 1:\")\n",
    "print(data_1.head())\n",
    "print()\n",
    "print(data_1.info())"
   ]
  },
  {
   "cell_type": "code",
   "execution_count": 5,
   "metadata": {},
   "outputs": [
    {
     "name": "stdout",
     "output_type": "stream",
     "text": [
      "Data for region 2:\n",
      "      id        f0        f1        f2     product\n",
      "0  fwXo0 -1.146987  0.963328 -0.828965   27.758673\n",
      "1  WJtFt  0.262778  0.269839 -2.530187   56.069697\n",
      "2  ovLUW  0.194587  0.289035 -5.586433   62.871910\n",
      "3  q6cA6  2.236060 -0.553760  0.930038  114.572842\n",
      "4  WPMUX -0.515993  1.716266  5.899011  149.600746\n",
      "\n",
      "<class 'pandas.core.frame.DataFrame'>\n",
      "RangeIndex: 100000 entries, 0 to 99999\n",
      "Data columns (total 5 columns):\n",
      " #   Column   Non-Null Count   Dtype  \n",
      "---  ------   --------------   -----  \n",
      " 0   id       100000 non-null  object \n",
      " 1   f0       100000 non-null  float64\n",
      " 2   f1       100000 non-null  float64\n",
      " 3   f2       100000 non-null  float64\n",
      " 4   product  100000 non-null  float64\n",
      "dtypes: float64(4), object(1)\n",
      "memory usage: 3.8+ MB\n",
      "None\n"
     ]
    }
   ],
   "source": [
    "print(\"Data for region 2:\")\n",
    "print(data_2.head())\n",
    "print()\n",
    "print(data_2.info())"
   ]
  },
  {
   "cell_type": "code",
   "execution_count": 6,
   "metadata": {
    "scrolled": false
   },
   "outputs": [
    {
     "name": "stdout",
     "output_type": "stream",
     "text": [
      "Missing values for region 0:\n",
      "id         0\n",
      "f0         0\n",
      "f1         0\n",
      "f2         0\n",
      "product    0\n",
      "dtype: int64\n",
      "\n",
      "Missing values for region 1:\n",
      "id         0\n",
      "f0         0\n",
      "f1         0\n",
      "f2         0\n",
      "product    0\n",
      "dtype: int64\n",
      "\n",
      "Missing values for region 2:\n",
      "id         0\n",
      "f0         0\n",
      "f1         0\n",
      "f2         0\n",
      "product    0\n",
      "dtype: int64\n"
     ]
    }
   ],
   "source": [
    "# Проверка на наличие пропусков\n",
    "print(\"Missing values for region 0:\")\n",
    "print(data_0.isnull().sum())\n",
    "print()\n",
    "\n",
    "print(\"Missing values for region 1:\")\n",
    "print(data_1.isnull().sum())\n",
    "print()\n",
    "\n",
    "print(\"Missing values for region 2:\")\n",
    "print(data_2.isnull().sum())"
   ]
  },
  {
   "cell_type": "markdown",
   "metadata": {},
   "source": [
    "### Удаление стобца 'id'"
   ]
  },
  {
   "cell_type": "code",
   "execution_count": 7,
   "metadata": {},
   "outputs": [],
   "source": [
    "data_0 = data_0.drop('id', axis=1)\n",
    "data_1 = data_1.drop('id', axis=1)\n",
    "data_2 = data_2.drop('id', axis=1)"
   ]
  },
  {
   "cell_type": "markdown",
   "metadata": {},
   "source": [
    "Мы удалили столбец 'id', потому что он является уникальным идентификатором скважины и не вносит ценности для нашей задачи регрессии."
   ]
  },
  {
   "cell_type": "markdown",
   "metadata": {},
   "source": [
    "### Гистограммы для числовых признаков и целевого признака (product)"
   ]
  },
  {
   "cell_type": "code",
   "execution_count": 8,
   "metadata": {},
   "outputs": [
    {
     "data": {
      "image/png": "[encoded data removed]",
      "text/plain": [
       "<Figure size 1500x500 with 4 Axes>"
      ]
     },
     "metadata": {},
     "output_type": "display_data"
    },
    {
     "data": {
      "image/png": "[encoded data removed]",
      "text/plain": [
       "<Figure size 1500x500 with 4 Axes>"
      ]
     },
     "metadata": {},
     "output_type": "display_data"
    },
    {
     "data": {
      "image/png": "[encoded data removed]",
      "text/plain": [
       "<Figure size 1500x500 with 4 Axes>"
      ]
     },
     "metadata": {},
     "output_type": "display_data"
    }
   ],
   "source": [
    "for region, data in enumerate([data_0, data_1, data_2]):\n",
    "    plt.figure(figsize=(15, 5))\n",
    "    for i, column in enumerate(data.columns):\n",
    "        plt.subplot(1, 4, i + 1)\n",
    "        plt.hist(data[column], bins=20)\n",
    "        plt.title(f'Region {region}, {column}')\n",
    "    plt.show()"
   ]
  },
  {
   "cell_type": "markdown",
   "metadata": {},
   "source": [
    "### Корреляция между признаками"
   ]
  },
  {
   "cell_type": "code",
   "execution_count": 9,
   "metadata": {},
   "outputs": [
    {
     "data": {
      "text/html": [
       "<div>\n",
       "<style scoped>\n",
       "    .dataframe tbody tr th:only-of-type {\n",
       "        vertical-align: middle;\n",
       "    }\n",
       "\n",
       "    .dataframe tbody tr th {\n",
       "        vertical-align: top;\n",
       "    }\n",
       "\n",
       "    .dataframe thead th {\n",
       "        text-align: right;\n",
       "    }\n",
       "</style>\n",
       "<table border=\"1\" class=\"dataframe\">\n",
       "  <thead>\n",
       "    <tr style=\"text-align: right;\">\n",
       "      <th></th>\n",
       "      <th>f0</th>\n",
       "      <th>f1</th>\n",
       "      <th>f2</th>\n",
       "      <th>product</th>\n",
       "    </tr>\n",
       "  </thead>\n",
       "  <tbody>\n",
       "    <tr>\n",
       "      <th>f0</th>\n",
       "      <td>1.000000</td>\n",
       "      <td>-0.440723</td>\n",
       "      <td>-0.003153</td>\n",
       "      <td>0.143536</td>\n",
       "    </tr>\n",
       "    <tr>\n",
       "      <th>f1</th>\n",
       "      <td>-0.440723</td>\n",
       "      <td>1.000000</td>\n",
       "      <td>0.001724</td>\n",
       "      <td>-0.192356</td>\n",
       "    </tr>\n",
       "    <tr>\n",
       "      <th>f2</th>\n",
       "      <td>-0.003153</td>\n",
       "      <td>0.001724</td>\n",
       "      <td>1.000000</td>\n",
       "      <td>0.483663</td>\n",
       "    </tr>\n",
       "    <tr>\n",
       "      <th>product</th>\n",
       "      <td>0.143536</td>\n",
       "      <td>-0.192356</td>\n",
       "      <td>0.483663</td>\n",
       "      <td>1.000000</td>\n",
       "    </tr>\n",
       "  </tbody>\n",
       "</table>\n",
       "</div>"
      ],
      "text/plain": [
       "               f0        f1        f2   product\n",
       "f0       1.000000 -0.440723 -0.003153  0.143536\n",
       "f1      -0.440723  1.000000  0.001724 -0.192356\n",
       "f2      -0.003153  0.001724  1.000000  0.483663\n",
       "product  0.143536 -0.192356  0.483663  1.000000"
      ]
     },
     "execution_count": 9,
     "metadata": {},
     "output_type": "execute_result"
    }
   ],
   "source": [
    "data_0.corr()"
   ]
  },
  {
   "cell_type": "code",
   "execution_count": 10,
   "metadata": {},
   "outputs": [
    {
     "data": {
      "text/html": [
       "<div>\n",
       "<style scoped>\n",
       "    .dataframe tbody tr th:only-of-type {\n",
       "        vertical-align: middle;\n",
       "    }\n",
       "\n",
       "    .dataframe tbody tr th {\n",
       "        vertical-align: top;\n",
       "    }\n",
       "\n",
       "    .dataframe thead th {\n",
       "        text-align: right;\n",
       "    }\n",
       "</style>\n",
       "<table border=\"1\" class=\"dataframe\">\n",
       "  <thead>\n",
       "    <tr style=\"text-align: right;\">\n",
       "      <th></th>\n",
       "      <th>f0</th>\n",
       "      <th>f1</th>\n",
       "      <th>f2</th>\n",
       "      <th>product</th>\n",
       "    </tr>\n",
       "  </thead>\n",
       "  <tbody>\n",
       "    <tr>\n",
       "      <th>f0</th>\n",
       "      <td>1.000000</td>\n",
       "      <td>0.182287</td>\n",
       "      <td>-0.001777</td>\n",
       "      <td>-0.030491</td>\n",
       "    </tr>\n",
       "    <tr>\n",
       "      <th>f1</th>\n",
       "      <td>0.182287</td>\n",
       "      <td>1.000000</td>\n",
       "      <td>-0.002595</td>\n",
       "      <td>-0.010155</td>\n",
       "    </tr>\n",
       "    <tr>\n",
       "      <th>f2</th>\n",
       "      <td>-0.001777</td>\n",
       "      <td>-0.002595</td>\n",
       "      <td>1.000000</td>\n",
       "      <td>0.999397</td>\n",
       "    </tr>\n",
       "    <tr>\n",
       "      <th>product</th>\n",
       "      <td>-0.030491</td>\n",
       "      <td>-0.010155</td>\n",
       "      <td>0.999397</td>\n",
       "      <td>1.000000</td>\n",
       "    </tr>\n",
       "  </tbody>\n",
       "</table>\n",
       "</div>"
      ],
      "text/plain": [
       "               f0        f1        f2   product\n",
       "f0       1.000000  0.182287 -0.001777 -0.030491\n",
       "f1       0.182287  1.000000 -0.002595 -0.010155\n",
       "f2      -0.001777 -0.002595  1.000000  0.999397\n",
       "product -0.030491 -0.010155  0.999397  1.000000"
      ]
     },
     "execution_count": 10,
     "metadata": {},
     "output_type": "execute_result"
    }
   ],
   "source": [
    "data_1.corr()"
   ]
  },
  {
   "cell_type": "code",
   "execution_count": 11,
   "metadata": {},
   "outputs": [
    {
     "data": {
      "text/html": [
       "<div>\n",
       "<style scoped>\n",
       "    .dataframe tbody tr th:only-of-type {\n",
       "        vertical-align: middle;\n",
       "    }\n",
       "\n",
       "    .dataframe tbody tr th {\n",
       "        vertical-align: top;\n",
       "    }\n",
       "\n",
       "    .dataframe thead th {\n",
       "        text-align: right;\n",
       "    }\n",
       "</style>\n",
       "<table border=\"1\" class=\"dataframe\">\n",
       "  <thead>\n",
       "    <tr style=\"text-align: right;\">\n",
       "      <th></th>\n",
       "      <th>f0</th>\n",
       "      <th>f1</th>\n",
       "      <th>f2</th>\n",
       "      <th>product</th>\n",
       "    </tr>\n",
       "  </thead>\n",
       "  <tbody>\n",
       "    <tr>\n",
       "      <th>f0</th>\n",
       "      <td>1.000000</td>\n",
       "      <td>0.000528</td>\n",
       "      <td>-0.000448</td>\n",
       "      <td>-0.001987</td>\n",
       "    </tr>\n",
       "    <tr>\n",
       "      <th>f1</th>\n",
       "      <td>0.000528</td>\n",
       "      <td>1.000000</td>\n",
       "      <td>0.000779</td>\n",
       "      <td>-0.001012</td>\n",
       "    </tr>\n",
       "    <tr>\n",
       "      <th>f2</th>\n",
       "      <td>-0.000448</td>\n",
       "      <td>0.000779</td>\n",
       "      <td>1.000000</td>\n",
       "      <td>0.445871</td>\n",
       "    </tr>\n",
       "    <tr>\n",
       "      <th>product</th>\n",
       "      <td>-0.001987</td>\n",
       "      <td>-0.001012</td>\n",
       "      <td>0.445871</td>\n",
       "      <td>1.000000</td>\n",
       "    </tr>\n",
       "  </tbody>\n",
       "</table>\n",
       "</div>"
      ],
      "text/plain": [
       "               f0        f1        f2   product\n",
       "f0       1.000000  0.000528 -0.000448 -0.001987\n",
       "f1       0.000528  1.000000  0.000779 -0.001012\n",
       "f2      -0.000448  0.000779  1.000000  0.445871\n",
       "product -0.001987 -0.001012  0.445871  1.000000"
      ]
     },
     "execution_count": 11,
     "metadata": {},
     "output_type": "execute_result"
    }
   ],
   "source": [
    "data_2.corr()"
   ]
  },
  {
   "cell_type": "markdown",
   "metadata": {},
   "source": [
    "### Вывод"
   ]
  },
  {
   "cell_type": "markdown",
   "metadata": {},
   "source": [
    "- Мы импортировали необходимые библиотеки и загрузили данные из трех файлов, представляющих собой геологоразведку трех регионов.\n",
    "- Изучили данные и проверили их на наличие пропусков. Пропусков не обнаружено.\n",
    "- Удалили столбец 'id', так как он является уникальным идентификатором скважины и не вносит ценности для нашей задачи регрессии.\n",
    "- Построили гистограммы для числовых признаков (f0, f1, f2) и целевого признака (product) для всех трех регионов. В регионе 1 обнаружено два пика в распределении целевого признака, что может указывать на наличие двух разных групп скважин с разными характеристиками. Однако, это не является проблемой для нашей задачи, и мы можем продолжить анализ и обучение модели на этих данных.\n",
    "-  f2 в data_1 имеет сильную корреляцию с целевым признаком. Однако, это не означает, что мы должны игнорировать другие признаки. Модель линейной регрессии будет учитывать веса всех признаков при предсказании значения целевого признака. В данном случае, f2 будет иметь более высокий вес, а f0 и f1 - ниже."
   ]
  },
  {
   "cell_type": "markdown",
   "metadata": {},
   "source": [
    "## Обучение и проверка модели"
   ]
  },
  {
   "cell_type": "markdown",
   "metadata": {},
   "source": [
    "### Функция для обучения модели и вывода результатов"
   ]
  },
  {
   "cell_type": "code",
   "execution_count": 12,
   "metadata": {},
   "outputs": [],
   "source": [
    "def train_and_evaluate(region_name, data):\n",
    "    \"\"\"\n",
    "    Train a linear regression model on the given data, and evaluate its performance on a validation set.\n",
    "\n",
    "    Parameters:\n",
    "    region_name (str): The name of the region being evaluated.\n",
    "    data (pandas.DataFrame): A dataframe containing the input features and target values.\n",
    "\n",
    "    Returns:\n",
    "    A tuple containing the model's predictions on the validation set, the actual target values for the validation set,\n",
    "    and the mean predicted product.\n",
    "    \"\"\"\n",
    "\n",
    "    # Split the data into training and validation sets\n",
    "    X = data.drop('product', axis=1)\n",
    "    y = data['product']\n",
    "    X_train, X_valid, y_train, y_valid = train_test_split(X, y, test_size=0.25, random_state=12345)\n",
    "\n",
    "    # Scale the data using StandardScaler\n",
    "    scaler = StandardScaler()\n",
    "    scaler.fit(X_train)\n",
    "    X_train = scaler.transform(X_train)\n",
    "    X_valid = scaler.transform(X_valid)\n",
    "\n",
    "    # Train a linear regression model on the scaled training data\n",
    "    model = LinearRegression()\n",
    "    model.fit(X_train, y_train)\n",
    "\n",
    "    # Make predictions on the validation set\n",
    "    y_pred = model.predict(X_valid)\n",
    "\n",
    "    # Calculate the mean predicted product and RMSE\n",
    "    mean_predicted_product = y_pred.mean()\n",
    "    rmse = mean_squared_error(y_valid, y_pred, squared=False)\n",
    "\n",
    "    # Print the evaluation results for the region\n",
    "    print(f\"Region {region_name}:\")\n",
    "    print(f\"  Mean predicted product: {mean_predicted_product:.2f}\")\n",
    "    print(f\"  RMSE: {rmse:.2f}\\n\")\n",
    "\n",
    "    return y_pred, y_valid, mean_predicted_product\n"
   ]
  },
  {
   "cell_type": "markdown",
   "metadata": {},
   "source": [
    "### Обучение модели и вывод результатов для каждого региона"
   ]
  },
  {
   "cell_type": "code",
   "execution_count": 13,
   "metadata": {},
   "outputs": [
    {
     "name": "stdout",
     "output_type": "stream",
     "text": [
      "Region 0:\n",
      "  Mean predicted product: 92.59\n",
      "  RMSE: 37.58\n",
      "\n",
      "Region 1:\n",
      "  Mean predicted product: 68.73\n",
      "  RMSE: 0.89\n",
      "\n",
      "Region 2:\n",
      "  Mean predicted product: 94.97\n",
      "  RMSE: 40.03\n",
      "\n"
     ]
    }
   ],
   "source": [
    "predictions_list = []\n",
    "targets_list = []\n",
    "mean_predicted_products = []\n",
    "\n",
    "for region, data in enumerate([data_0, data_1, data_2]):\n",
    "    y_pred, y_valid, mean_product = train_and_evaluate(region, data)\n",
    "    targets_list.append(y_valid.reset_index(drop=True))\n",
    "    predictions_list.append(pd.Series(y_pred))\n",
    "    mean_predicted_products.append(mean_product)\n",
    "\n",
    "predictions_and_targets = [predictions_list, targets_list]"
   ]
  },
  {
   "cell_type": "markdown",
   "metadata": {},
   "source": [
    "### Вывод"
   ]
  },
  {
   "cell_type": "markdown",
   "metadata": {},
   "source": [
    "Регион 0:\n",
    "- Средний запас предсказанного сырья: 92.59 тыс. баррелей.\n",
    "- RMSE: 37.58. Это значение говорит о том, как отклоняются предсказания модели от реальных значений. Чем ниже значение RMSE, тем точнее модель. В данном случае, ошибка составляет примерно 37.76 тыс. баррелей.\n",
    "\n",
    "Регион 1:\n",
    "- Средний запас предсказанного сырья: 68.73 тыс. баррелей.\n",
    "- RMSE: 0.89. Ошибка модели для региона 1 значительно ниже, чем для других регионов, что указывает на более точные предсказания.\n",
    "\n",
    "Регион 2:\n",
    "- Средний запас предсказанного сырья: 94.97 тыс. баррелей.\n",
    "- RMSE: 40.03. Ошибка модели для региона 2 самая высокая среди всех регионов, что указывает на менее точные предсказания.\n",
    "\n",
    "Исходя из этих результатов, можно сделать вывод, что модель линейной регрессии наиболее точна для региона 1, но средний запас предсказанного сырья для этого региона ниже, чем в регионах 0 и 2. Регионы 0 и 2 имеют более высокие средние запасы предсказанного сырья, но их модели менее точны."
   ]
  },
  {
   "cell_type": "markdown",
   "metadata": {},
   "source": [
    "## Подготовка к расчёту прибыли"
   ]
  },
  {
   "cell_type": "markdown",
   "metadata": {},
   "source": [
    "### Ключевые значения для расчетов"
   ]
  },
  {
   "cell_type": "code",
   "execution_count": 14,
   "metadata": {},
   "outputs": [],
   "source": [
    "BUDGET = 10_000_000_000  # Бюджет на разработку скважин в регионе (10 млрд рублей)\n",
    "BARREL_REVENUE = 450_000  # Доход с каждой единицы продукта (тыс. баррелей)\n",
    "WELLS_TO_EXPLORE = 500  # Количество исследуемых точек в регионе\n",
    "WELLS_TO_DEVELOP = 200  # Количество лучших скважин для разработки"
   ]
  },
  {
   "cell_type": "markdown",
   "metadata": {},
   "source": [
    "### Достаточный объём сырья для безубыточной разработки новой скважины"
   ]
  },
  {
   "cell_type": "code",
   "execution_count": 15,
   "metadata": {
    "scrolled": true
   },
   "outputs": [
    {
     "name": "stdout",
     "output_type": "stream",
     "text": [
      "Break-even volume: 111.11 (тыс. баррелей)\n"
     ]
    }
   ],
   "source": [
    "break_even_volume = BUDGET / (BARREL_REVENUE * WELLS_TO_DEVELOP)\n",
    "print(f\"Break-even volume: {break_even_volume:.2f} (тыс. баррелей)\")"
   ]
  },
  {
   "cell_type": "markdown",
   "metadata": {},
   "source": [
    "### Сравниваем полученный объём сырья со средним запасом в каждом регионе"
   ]
  },
  {
   "cell_type": "code",
   "execution_count": 16,
   "metadata": {},
   "outputs": [
    {
     "name": "stdout",
     "output_type": "stream",
     "text": [
      "Region 0:\n",
      "  Mean predicted product: 92.59\n",
      "  Difference with break-even volume: -18.52\n",
      "\n",
      "Region 1:\n",
      "  Mean predicted product: 68.73\n",
      "  Difference with break-even volume: -42.38\n",
      "\n",
      "Region 2:\n",
      "  Mean predicted product: 94.97\n",
      "  Difference with break-even volume: -16.15\n",
      "\n"
     ]
    }
   ],
   "source": [
    "for i, mean_predicted_product in enumerate(mean_predicted_products):\n",
    "    print(f\"Region {i}:\")\n",
    "    print(f\"  Mean predicted product: {mean_predicted_product:.2f}\")\n",
    "    print(f\"  Difference with break-even volume: {mean_predicted_product - break_even_volume:.2f}\")\n",
    "    print()"
   ]
  },
  {
   "cell_type": "markdown",
   "metadata": {},
   "source": [
    "### Вывод"
   ]
  },
  {
   "cell_type": "markdown",
   "metadata": {},
   "source": [
    "Судя по результатам, средний предсказанный объем сырья во всех регионах недостаточен для безубыточной разработки новой скважины. Разница между достаточным объемом сырья для безубыточной разработки и средним предсказанным объемом сырья в каждом регионе отрицательна.\n",
    "\n",
    "Однако стоит учесть, что мы анализируем средние значения, и при выборе лучших скважин для разработки, возможно, ситуация будет другой."
   ]
  },
  {
   "cell_type": "markdown",
   "metadata": {},
   "source": [
    "## Функция для расчёта прибыли по выбранным скважинам и предсказаниям модели"
   ]
  },
  {
   "cell_type": "code",
   "execution_count": 17,
   "metadata": {},
   "outputs": [],
   "source": [
    "def calculate_profit(predictions, targets, num_wells_to_develop=WELLS_TO_DEVELOP,\n",
    "                     barrel_revenue=BARREL_REVENUE, budget=BUDGET):\n",
    "    \"\"\"\n",
    "    Calculate the profit from developing a given number of wells based on predictions and targets.\n",
    "\n",
    "    Parameters:\n",
    "    predictions (pandas.Series): A series of predicted values.\n",
    "    targets (pandas.Series): A series of actual target values.\n",
    "    num_wells_to_develop (int): The number of wells to develop. Defaults to NUM_WELLS_TO_DEVELOP.\n",
    "    barrel_revenue (float): The revenue per barrel of oil. Defaults to BARREL_REVENUE.\n",
    "    budget (float): The budget for developing the wells. Defaults to BUDGET.\n",
    "\n",
    "    Returns:\n",
    "    The profit from developing the specified number of wells based on the given predictions and targets.\n",
    "    \"\"\"\n",
    "\n",
    "    # Reset indexes for predictions and targets\n",
    "    predictions = predictions.reset_index(drop=True)\n",
    "    targets = targets.reset_index(drop=True)\n",
    "\n",
    "    # Select the wells with the highest predicted values\n",
    "    selected_wells = predictions.nlargest(num_wells_to_develop)\n",
    "    selected_well_indices = selected_wells.index\n",
    "\n",
    "    # Calculate the total volume of oil for the selected wells\n",
    "    total_product_volume = targets[selected_well_indices].sum()\n",
    "\n",
    "    # Calculate the profit for the selected wells based on the total product volume\n",
    "    profit = total_product_volume * barrel_revenue - budget\n",
    "\n",
    "    return profit\n"
   ]
  },
  {
   "cell_type": "code",
   "execution_count": 18,
   "metadata": {
    "scrolled": true
   },
   "outputs": [
    {
     "name": "stdout",
     "output_type": "stream",
     "text": [
      "Region 0: profit = 3320826043.14 RUB\n",
      "Region 1: profit = 2415086696.68 RUB\n",
      "Region 2: profit = 2710349963.60 RUB\n"
     ]
    }
   ],
   "source": [
    "# Рассчитываем прибыль для каждого региона\n",
    "for i, (predictions, targets) in enumerate(zip(predictions_list, targets_list)):\n",
    "    profit = calculate_profit(predictions, targets)\n",
    "    print(f'Region {i}: profit = {profit:.2f} RUB')"
   ]
  },
  {
   "cell_type": "markdown",
   "metadata": {},
   "source": [
    "## Расчёт прибыли и рисков "
   ]
  },
  {
   "cell_type": "code",
   "execution_count": 19,
   "metadata": {},
   "outputs": [],
   "source": [
    "state = np.random.RandomState(12345)\n",
    "def calculate_conf_interval_and_risk(predictions, target):\n",
    "    \"\"\"\n",
    "    Calculate the 95% confidence interval, mean revenue, and risk of loss for a given set of predictions and targets.\n",
    "\n",
    "    Parameters:\n",
    "    predictions (pandas.Series): A series of predicted values.\n",
    "    target (pandas.Series): A series of actual target values.\n",
    "\n",
    "    Returns:\n",
    "    A tuple of three values:\n",
    "    - A tuple representing the 95% confidence interval of the revenue\n",
    "    - The mean revenue over 1000 simulations\n",
    "    - The risk of loss (as a percentage) over 1000 simulations\n",
    "    \"\"\"\n",
    "    # Simulate 1000 samples of 500 target values with replacement\n",
    "    revenue = []\n",
    "    for _ in range(1000):\n",
    "        target_sample = target.sample(500, replace=True, random_state=state)\n",
    "        predictions_sample = predictions[target_sample.index]\n",
    "        revenue.append(calculate_profit(predictions_sample, target_sample))\n",
    "\n",
    "    # Calculate the 95% confidence interval using percentiles\n",
    "    lower = int(np.percentile(revenue, 2.5))\n",
    "    higher = int(np.percentile(revenue, 97.5))\n",
    "\n",
    "    # Calculate the mean revenue over 1000 simulations\n",
    "    mean_revenue = int(np.mean(revenue))\n",
    "\n",
    "    # Calculate the risk of loss as the percentage of simulations with negative revenue\n",
    "    risk = st.percentileofscore(revenue, 0)\n",
    "\n",
    "    return ((lower, higher), mean_revenue, risk)"
   ]
  },
  {
   "cell_type": "code",
   "execution_count": 20,
   "metadata": {},
   "outputs": [
    {
     "name": "stdout",
     "output_type": "stream",
     "text": [
      "Region 0:\n",
      "  Mean revenue: 396164984\n",
      "  95% confidence interval: (-111215545, 909766941)\n",
      "  Risk of loss: 6.9%\n",
      "-----------------------------------------\n",
      "\n",
      "Region 1:\n",
      "  Mean revenue: 461155817\n",
      "  95% confidence interval: (78050810, 862952060)\n",
      "  Risk of loss: 0.7000000000000001%\n",
      "-----------------------------------------\n",
      "\n",
      "Region 2:\n",
      "  Mean revenue: 392950475\n",
      "  95% confidence interval: (-112227625, 934562914)\n",
      "  Risk of loss: 6.5%\n",
      "-----------------------------------------\n",
      "\n"
     ]
    }
   ],
   "source": [
    "for i, (predictions, targets) in enumerate(zip(predictions_list, targets_list)):\n",
    "    interval, mean_revenue, risk = calculate_conf_interval_and_risk(predictions, targets)\n",
    "\n",
    "    # Print the results for each region\n",
    "    print(f\"Region {i}:\")\n",
    "    print(f\"  Mean revenue: {mean_revenue}\")\n",
    "    print(f\"  95% confidence interval: {interval}\")\n",
    "    print(f\"  Risk of loss: {risk}%\")\n",
    "    print(\"-----------------------------------------\\n\")\n"
   ]
  },
  {
   "cell_type": "markdown",
   "metadata": {},
   "source": [
    "### Вывод"
   ]
  },
  {
   "cell_type": "markdown",
   "metadata": {},
   "source": [
    "Мы провели процедуру бутстрепа для оценки потенциальной прибыли и риска убытков для каждого региона. Это позволило нам оценить среднюю прибыль, 95% доверительный интервал и риск убытков для каждого региона. Результаты следующие:\n",
    "\n",
    "- Регион 0 имеет среднюю прибыль 396,164,984 RUB, 95% доверительный интервал составляет (-111215545, 909766941), и риск убытков равен 6.9%.\n",
    "- Регион 1 имеет среднюю прибыль 461,155,817 RUB, 95% доверительный интервал составляет (78050810, 862952060), и риск убытков равен 0.7%.\n",
    "- Регион 2 имеет среднюю прибыль 392,950,475 RUB, 95% доверительный интервал составляет (-112227625, 934562914), и риск убытков равен 6.5%.\n",
    "\n",
    "Исходя из полученных результатов, Регион 1 является наиболее предпочтительным для разработки новых скважин, так как он имеет наибольшую среднюю прибыль, наименьший риск убытков и наименьший разброс в доверительном интервале. Это указывает на то, что инвестиции в Регион 1 будут более безопасными и потенциально прибыльными по сравнению с другими регионами."
   ]
  },
  {
   "cell_type": "markdown",
   "metadata": {},
   "source": [
    "## Общий вывод"
   ]
  },
  {
   "cell_type": "markdown",
   "metadata": {},
   "source": [
    "В рамках данного проекта мы провели анализ данных о трех регионах с целью определения оптимального региона для разработки новых скважин и максимизации прибыли.\n",
    "\n",
    "1. Мы начали с изучения и предобработки данных. Проверили данные на наличие пропусков и аномалий, а также изучили корреляцию между признаками. В результате было обнаружено, что в одном из регионов существует сильная линейная зависимость между одним из признаков и целевым значением. В других регионах такой зависимости не было.\n",
    "\n",
    "2. Затем мы разделили данные на обучающую и валидационную выборки и обучили модель линейной регрессии для каждого региона. Мы сравнили результаты до и после масштабирования признаков и пришли к выводу, что масштабирование не приводит к значительному улучшению результатов.\n",
    "\n",
    "3. Далее, мы рассчитали прибыль для каждого региона с учетом того, что только 200 лучших скважин из 500 будут выбраны для разработки. Результаты показали, что разные регионы имеют различные уровни прибыли и риска убытков.\n",
    "\n",
    "4. Наконец, мы применили метод бутстрепа для оценки потенциальной прибыли и риска убытков для каждого региона. Это позволило нам оценить среднюю прибыль, 95% доверительный интервал и риск убытков для каждого региона.\n",
    "\n",
    "Исходя из проведенного анализа, Регион 1 является наиболее предпочтительным для разработки новых скважин, так как он имеет наибольшую среднюю прибыль, наименьший риск убытков и наименьший разброс в доверительном интервале. Это указывает на то, что инвестиции в Регион 1 будут более безопасными и потенциально прибыльными по сравнению с другими регионами."
   ]
  },
  {
   "cell_type": "code",
   "execution_count": null,
   "metadata": {},
   "outputs": [],
   "source": []
  }
 ],
 "metadata": {
  "ExecuteTimeLog": [
   {
    "duration": 1791,
    "start_time": "2023-05-03T11:58:18.809Z"
   },
   {
    "duration": 81,
    "start_time": "2023-05-03T12:01:55.093Z"
   },
   {
    "duration": 953,
    "start_time": "2023-05-03T12:02:31.730Z"
   },
   {
    "duration": 21,
    "start_time": "2023-05-03T12:03:08.040Z"
   },
   {
    "duration": 52,
    "start_time": "2023-05-03T12:03:24.121Z"
   },
   {
    "duration": 58,
    "start_time": "2023-05-03T12:03:44.030Z"
   },
   {
    "duration": 34,
    "start_time": "2023-05-03T12:03:48.321Z"
   },
   {
    "duration": 37,
    "start_time": "2023-05-03T12:03:53.730Z"
   },
   {
    "duration": 49,
    "start_time": "2023-05-03T12:03:57.850Z"
   },
   {
    "duration": 34,
    "start_time": "2023-05-03T12:04:01.308Z"
   },
   {
    "duration": 3205,
    "start_time": "2023-05-03T12:05:15.604Z"
   },
   {
    "duration": 3020,
    "start_time": "2023-05-03T12:05:31.159Z"
   },
   {
    "duration": 3275,
    "start_time": "2023-05-03T12:05:43.128Z"
   },
   {
    "duration": 3019,
    "start_time": "2023-05-03T12:05:52.073Z"
   },
   {
    "duration": 3049,
    "start_time": "2023-05-03T12:06:34.358Z"
   },
   {
    "duration": 1137,
    "start_time": "2023-05-03T12:06:53.719Z"
   },
   {
    "duration": 1389,
    "start_time": "2023-05-03T12:07:11.009Z"
   },
   {
    "duration": 20,
    "start_time": "2023-05-03T12:08:30.773Z"
   },
   {
    "duration": 1041,
    "start_time": "2023-05-03T12:08:34.629Z"
   },
   {
    "duration": 95,
    "start_time": "2023-05-03T12:13:04.611Z"
   },
   {
    "duration": 1046,
    "start_time": "2023-05-03T12:13:13.520Z"
   },
   {
    "duration": 1027,
    "start_time": "2023-05-03T12:14:13.990Z"
   },
   {
    "duration": 1617,
    "start_time": "2023-05-03T12:14:24.804Z"
   },
   {
    "duration": 61,
    "start_time": "2023-05-03T12:16:38.341Z"
   },
   {
    "duration": 1952,
    "start_time": "2023-05-03T12:17:56.041Z"
   },
   {
    "duration": 2533,
    "start_time": "2023-05-03T12:19:55.909Z"
   },
   {
    "duration": 2220,
    "start_time": "2023-05-03T12:20:14.611Z"
   },
   {
    "duration": 4,
    "start_time": "2023-05-03T12:37:21.249Z"
   },
   {
    "duration": 791,
    "start_time": "2023-05-03T12:37:21.258Z"
   },
   {
    "duration": 19,
    "start_time": "2023-05-03T12:37:22.050Z"
   },
   {
    "duration": 30,
    "start_time": "2023-05-03T12:37:22.071Z"
   },
   {
    "duration": 25,
    "start_time": "2023-05-03T12:37:22.103Z"
   },
   {
    "duration": 32,
    "start_time": "2023-05-03T12:37:22.129Z"
   },
   {
    "duration": 23,
    "start_time": "2023-05-03T12:37:55.093Z"
   },
   {
    "duration": 44,
    "start_time": "2023-05-03T12:38:02.742Z"
   },
   {
    "duration": 19,
    "start_time": "2023-05-03T12:38:21.372Z"
   },
   {
    "duration": 19,
    "start_time": "2023-05-03T12:38:26.219Z"
   },
   {
    "duration": 19,
    "start_time": "2023-05-03T12:38:29.753Z"
   },
   {
    "duration": 14,
    "start_time": "2023-05-03T12:39:39.186Z"
   },
   {
    "duration": 1516,
    "start_time": "2023-05-03T12:40:03.492Z"
   },
   {
    "duration": 2027,
    "start_time": "2023-05-03T12:40:14.603Z"
   },
   {
    "duration": 1601,
    "start_time": "2023-05-03T12:40:23.643Z"
   },
   {
    "duration": 1467,
    "start_time": "2023-05-03T12:40:29.495Z"
   },
   {
    "duration": 1982,
    "start_time": "2023-05-03T12:40:33.687Z"
   },
   {
    "duration": 64,
    "start_time": "2023-05-03T12:41:30.442Z"
   },
   {
    "duration": 16,
    "start_time": "2023-05-03T12:52:28.713Z"
   },
   {
    "duration": 17,
    "start_time": "2023-05-03T12:52:38.124Z"
   },
   {
    "duration": 17,
    "start_time": "2023-05-03T12:52:43.643Z"
   },
   {
    "duration": 5,
    "start_time": "2023-05-03T12:59:35.062Z"
   },
   {
    "duration": 128,
    "start_time": "2023-05-03T12:59:36.819Z"
   },
   {
    "duration": 4,
    "start_time": "2023-05-03T12:59:44.703Z"
   },
   {
    "duration": 269,
    "start_time": "2023-05-03T12:59:49.132Z"
   },
   {
    "duration": 11,
    "start_time": "2023-05-03T13:07:19.497Z"
   },
   {
    "duration": 5,
    "start_time": "2023-05-03T13:11:12.042Z"
   },
   {
    "duration": 485,
    "start_time": "2023-05-03T13:11:21.106Z"
   },
   {
    "duration": 4,
    "start_time": "2023-05-03T13:11:38.164Z"
   },
   {
    "duration": 403,
    "start_time": "2023-05-03T13:11:38.170Z"
   },
   {
    "duration": 30,
    "start_time": "2023-05-03T13:11:38.575Z"
   },
   {
    "duration": 20,
    "start_time": "2023-05-03T13:11:38.607Z"
   },
   {
    "duration": 20,
    "start_time": "2023-05-03T13:11:38.629Z"
   },
   {
    "duration": 47,
    "start_time": "2023-05-03T13:11:38.651Z"
   },
   {
    "duration": 15,
    "start_time": "2023-05-03T13:11:38.700Z"
   },
   {
    "duration": 1451,
    "start_time": "2023-05-03T13:11:38.717Z"
   },
   {
    "duration": 24,
    "start_time": "2023-05-03T13:11:40.170Z"
   },
   {
    "duration": 15,
    "start_time": "2023-05-03T13:11:40.196Z"
   },
   {
    "duration": 19,
    "start_time": "2023-05-03T13:11:40.213Z"
   },
   {
    "duration": 22,
    "start_time": "2023-05-03T13:11:40.234Z"
   },
   {
    "duration": 350,
    "start_time": "2023-05-03T13:11:40.257Z"
   },
   {
    "duration": 589,
    "start_time": "2023-05-03T13:11:40.609Z"
   },
   {
    "duration": 6,
    "start_time": "2023-05-03T13:17:31.105Z"
   },
   {
    "duration": 255,
    "start_time": "2023-05-03T13:17:35.955Z"
   },
   {
    "duration": 6,
    "start_time": "2023-05-03T13:18:18.940Z"
   },
   {
    "duration": 533,
    "start_time": "2023-05-03T13:18:18.951Z"
   },
   {
    "duration": 21,
    "start_time": "2023-05-03T13:18:19.486Z"
   },
   {
    "duration": 20,
    "start_time": "2023-05-03T13:18:19.509Z"
   },
   {
    "duration": 20,
    "start_time": "2023-05-03T13:18:19.532Z"
   },
   {
    "duration": 59,
    "start_time": "2023-05-03T13:18:19.554Z"
   },
   {
    "duration": 14,
    "start_time": "2023-05-03T13:18:19.616Z"
   },
   {
    "duration": 1501,
    "start_time": "2023-05-03T13:18:19.632Z"
   },
   {
    "duration": 15,
    "start_time": "2023-05-03T13:18:21.136Z"
   },
   {
    "duration": 18,
    "start_time": "2023-05-03T13:18:21.153Z"
   },
   {
    "duration": 16,
    "start_time": "2023-05-03T13:18:21.191Z"
   },
   {
    "duration": 5,
    "start_time": "2023-05-03T13:18:21.209Z"
   },
   {
    "duration": 385,
    "start_time": "2023-05-03T13:18:21.216Z"
   },
   {
    "duration": 6,
    "start_time": "2023-05-03T13:25:02.347Z"
   },
   {
    "duration": 4,
    "start_time": "2023-05-03T13:25:21.340Z"
   },
   {
    "duration": 6,
    "start_time": "2023-05-03T13:25:26.887Z"
   },
   {
    "duration": 6,
    "start_time": "2023-05-03T13:29:00.552Z"
   },
   {
    "duration": 3,
    "start_time": "2023-05-03T13:33:59.515Z"
   },
   {
    "duration": 6,
    "start_time": "2023-05-03T13:34:00.526Z"
   },
   {
    "duration": 5,
    "start_time": "2023-05-03T13:34:02.605Z"
   },
   {
    "duration": 1448,
    "start_time": "2023-05-03T14:02:17.931Z"
   },
   {
    "duration": 397,
    "start_time": "2023-05-03T14:02:19.381Z"
   },
   {
    "duration": 35,
    "start_time": "2023-05-03T14:02:19.780Z"
   },
   {
    "duration": 19,
    "start_time": "2023-05-03T14:02:19.817Z"
   },
   {
    "duration": 18,
    "start_time": "2023-05-03T14:02:19.838Z"
   },
   {
    "duration": 54,
    "start_time": "2023-05-03T14:02:19.858Z"
   },
   {
    "duration": 18,
    "start_time": "2023-05-03T14:02:19.914Z"
   },
   {
    "duration": 1645,
    "start_time": "2023-05-03T14:02:19.933Z"
   },
   {
    "duration": 36,
    "start_time": "2023-05-03T14:02:21.579Z"
   },
   {
    "duration": 17,
    "start_time": "2023-05-03T14:02:21.617Z"
   },
   {
    "duration": 18,
    "start_time": "2023-05-03T14:02:21.636Z"
   },
   {
    "duration": 6,
    "start_time": "2023-05-03T14:02:21.656Z"
   },
   {
    "duration": 446,
    "start_time": "2023-05-03T14:02:21.664Z"
   },
   {
    "duration": 4,
    "start_time": "2023-05-03T14:02:22.114Z"
   },
   {
    "duration": 104,
    "start_time": "2023-05-03T14:02:22.192Z"
   },
   {
    "duration": 23,
    "start_time": "2023-05-03T14:02:22.300Z"
   },
   {
    "duration": 143,
    "start_time": "2023-05-03T14:02:22.324Z"
   },
   {
    "duration": 23,
    "start_time": "2023-05-03T14:06:13.487Z"
   },
   {
    "duration": 23,
    "start_time": "2023-05-03T14:07:57.622Z"
   },
   {
    "duration": 19,
    "start_time": "2023-05-03T14:08:51.860Z"
   },
   {
    "duration": 30,
    "start_time": "2023-05-03T14:09:37.690Z"
   },
   {
    "duration": 25,
    "start_time": "2023-05-03T14:15:44.620Z"
   },
   {
    "duration": 24,
    "start_time": "2023-05-03T14:15:51.524Z"
   },
   {
    "duration": 822,
    "start_time": "2023-05-03T14:26:16.986Z"
   },
   {
    "duration": 18,
    "start_time": "2023-05-03T14:26:49.877Z"
   },
   {
    "duration": 10,
    "start_time": "2023-05-03T14:30:13.184Z"
   },
   {
    "duration": 14,
    "start_time": "2023-05-03T14:31:00.823Z"
   },
   {
    "duration": 7,
    "start_time": "2023-05-03T14:31:19.674Z"
   },
   {
    "duration": 183,
    "start_time": "2023-05-03T14:33:55.045Z"
   },
   {
    "duration": 112,
    "start_time": "2023-05-03T14:38:30.684Z"
   },
   {
    "duration": 5,
    "start_time": "2023-05-03T14:38:35.913Z"
   },
   {
    "duration": 431,
    "start_time": "2023-05-03T14:38:37.166Z"
   },
   {
    "duration": 5,
    "start_time": "2023-05-03T14:39:04.716Z"
   },
   {
    "duration": 400,
    "start_time": "2023-05-03T14:40:22.811Z"
   },
   {
    "duration": 23,
    "start_time": "2023-05-03T14:40:29.217Z"
   },
   {
    "duration": 466,
    "start_time": "2023-05-03T14:44:49.426Z"
   },
   {
    "duration": 3,
    "start_time": "2023-05-03T14:44:51.565Z"
   },
   {
    "duration": 458,
    "start_time": "2023-05-03T14:44:51.570Z"
   },
   {
    "duration": 26,
    "start_time": "2023-05-03T14:44:52.029Z"
   },
   {
    "duration": 50,
    "start_time": "2023-05-03T14:44:52.058Z"
   },
   {
    "duration": 22,
    "start_time": "2023-05-03T14:44:52.110Z"
   },
   {
    "duration": 23,
    "start_time": "2023-05-03T14:44:52.134Z"
   },
   {
    "duration": 43,
    "start_time": "2023-05-03T14:44:52.160Z"
   },
   {
    "duration": 1926,
    "start_time": "2023-05-03T14:44:52.205Z"
   },
   {
    "duration": 16,
    "start_time": "2023-05-03T14:44:54.134Z"
   },
   {
    "duration": 218,
    "start_time": "2023-05-03T14:44:54.153Z"
   },
   {
    "duration": 23,
    "start_time": "2023-05-03T14:44:54.373Z"
   },
   {
    "duration": 8,
    "start_time": "2023-05-03T14:44:54.398Z"
   },
   {
    "duration": 407,
    "start_time": "2023-05-03T14:44:54.408Z"
   },
   {
    "duration": 77,
    "start_time": "2023-05-03T14:44:54.817Z"
   },
   {
    "duration": 5,
    "start_time": "2023-05-03T14:44:54.897Z"
   },
   {
    "duration": 92,
    "start_time": "2023-05-03T14:44:54.904Z"
   },
   {
    "duration": 16,
    "start_time": "2023-05-03T14:44:54.998Z"
   },
   {
    "duration": 222,
    "start_time": "2023-05-03T14:44:55.016Z"
   },
   {
    "duration": 158,
    "start_time": "2023-05-03T14:47:51.219Z"
   },
   {
    "duration": 1400,
    "start_time": "2023-05-03T15:02:00.239Z"
   },
   {
    "duration": 421,
    "start_time": "2023-05-03T15:02:01.641Z"
   },
   {
    "duration": 29,
    "start_time": "2023-05-03T15:02:02.064Z"
   },
   {
    "duration": 31,
    "start_time": "2023-05-03T15:02:02.096Z"
   },
   {
    "duration": 40,
    "start_time": "2023-05-03T15:02:02.129Z"
   },
   {
    "duration": 70,
    "start_time": "2023-05-03T15:02:02.172Z"
   },
   {
    "duration": 17,
    "start_time": "2023-05-03T15:02:02.244Z"
   },
   {
    "duration": 1598,
    "start_time": "2023-05-03T15:02:02.263Z"
   },
   {
    "duration": 30,
    "start_time": "2023-05-03T15:02:03.863Z"
   },
   {
    "duration": 21,
    "start_time": "2023-05-03T15:02:03.896Z"
   },
   {
    "duration": 22,
    "start_time": "2023-05-03T15:02:03.919Z"
   },
   {
    "duration": 7,
    "start_time": "2023-05-03T15:02:03.943Z"
   },
   {
    "duration": 541,
    "start_time": "2023-05-03T15:02:03.951Z"
   },
   {
    "duration": 4,
    "start_time": "2023-05-03T15:02:04.494Z"
   },
   {
    "duration": 5,
    "start_time": "2023-05-03T15:02:04.500Z"
   },
   {
    "duration": 86,
    "start_time": "2023-05-03T15:02:04.508Z"
   },
   {
    "duration": 12,
    "start_time": "2023-05-03T15:02:04.595Z"
   },
   {
    "duration": 149,
    "start_time": "2023-05-03T15:02:04.609Z"
   },
   {
    "duration": 237,
    "start_time": "2023-05-03T15:02:29.874Z"
   },
   {
    "duration": 135,
    "start_time": "2023-05-03T15:02:54.740Z"
   },
   {
    "duration": 26,
    "start_time": "2023-05-03T15:05:16.320Z"
   },
   {
    "duration": 22,
    "start_time": "2023-05-03T15:06:00.899Z"
   },
   {
    "duration": 14,
    "start_time": "2023-05-03T15:06:42.159Z"
   },
   {
    "duration": 20,
    "start_time": "2023-05-03T15:09:04.959Z"
   },
   {
    "duration": 5,
    "start_time": "2023-05-03T15:09:23.799Z"
   },
   {
    "duration": 396,
    "start_time": "2023-05-03T15:09:23.806Z"
   },
   {
    "duration": 20,
    "start_time": "2023-05-03T15:09:24.204Z"
   },
   {
    "duration": 33,
    "start_time": "2023-05-03T15:09:24.226Z"
   },
   {
    "duration": 46,
    "start_time": "2023-05-03T15:09:24.262Z"
   },
   {
    "duration": 25,
    "start_time": "2023-05-03T15:09:24.310Z"
   },
   {
    "duration": 21,
    "start_time": "2023-05-03T15:09:24.338Z"
   },
   {
    "duration": 1724,
    "start_time": "2023-05-03T15:09:24.361Z"
   },
   {
    "duration": 19,
    "start_time": "2023-05-03T15:09:26.087Z"
   },
   {
    "duration": 17,
    "start_time": "2023-05-03T15:09:26.108Z"
   },
   {
    "duration": 26,
    "start_time": "2023-05-03T15:09:26.127Z"
   },
   {
    "duration": 43,
    "start_time": "2023-05-03T15:09:26.156Z"
   },
   {
    "duration": 393,
    "start_time": "2023-05-03T15:09:26.200Z"
   },
   {
    "duration": 3,
    "start_time": "2023-05-03T15:09:26.596Z"
   },
   {
    "duration": 6,
    "start_time": "2023-05-03T15:09:26.601Z"
   },
   {
    "duration": 4,
    "start_time": "2023-05-03T15:09:26.694Z"
   },
   {
    "duration": 18,
    "start_time": "2023-05-03T15:09:26.700Z"
   },
   {
    "duration": 23,
    "start_time": "2023-05-03T15:09:26.720Z"
   },
   {
    "duration": 1,
    "start_time": "2023-05-03T15:09:26.745Z"
   },
   {
    "duration": 23,
    "start_time": "2023-05-03T15:12:10.764Z"
   },
   {
    "duration": 35,
    "start_time": "2023-05-03T15:12:32.157Z"
   },
   {
    "duration": 22,
    "start_time": "2023-05-03T15:13:50.647Z"
   },
   {
    "duration": 458,
    "start_time": "2023-05-03T15:15:55.159Z"
   },
   {
    "duration": 13,
    "start_time": "2023-05-03T15:17:16.869Z"
   },
   {
    "duration": 454,
    "start_time": "2023-05-03T15:18:15.160Z"
   },
   {
    "duration": 24,
    "start_time": "2023-05-03T15:18:29.659Z"
   },
   {
    "duration": 15,
    "start_time": "2023-05-03T15:18:42.047Z"
   },
   {
    "duration": 13,
    "start_time": "2023-05-03T15:19:00.294Z"
   },
   {
    "duration": 16,
    "start_time": "2023-05-03T15:19:25.365Z"
   },
   {
    "duration": 19,
    "start_time": "2023-05-03T15:20:47.913Z"
   },
   {
    "duration": 16,
    "start_time": "2023-05-03T15:20:53.203Z"
   },
   {
    "duration": 15,
    "start_time": "2023-05-03T15:21:11.394Z"
   },
   {
    "duration": 424,
    "start_time": "2023-05-03T15:22:53.494Z"
   },
   {
    "duration": 5,
    "start_time": "2023-05-03T15:23:08.917Z"
   },
   {
    "duration": 461,
    "start_time": "2023-05-03T15:27:04.330Z"
   },
   {
    "duration": 525,
    "start_time": "2023-05-03T15:27:30.069Z"
   },
   {
    "duration": 40,
    "start_time": "2023-05-03T15:34:40.377Z"
   },
   {
    "duration": 4,
    "start_time": "2023-05-03T15:34:46.040Z"
   },
   {
    "duration": 400,
    "start_time": "2023-05-03T15:34:46.046Z"
   },
   {
    "duration": 22,
    "start_time": "2023-05-03T15:34:46.448Z"
   },
   {
    "duration": 40,
    "start_time": "2023-05-03T15:34:46.472Z"
   },
   {
    "duration": 21,
    "start_time": "2023-05-03T15:34:46.515Z"
   },
   {
    "duration": 55,
    "start_time": "2023-05-03T15:34:46.538Z"
   },
   {
    "duration": 18,
    "start_time": "2023-05-03T15:34:46.595Z"
   },
   {
    "duration": 1654,
    "start_time": "2023-05-03T15:34:46.616Z"
   },
   {
    "duration": 25,
    "start_time": "2023-05-03T15:34:48.272Z"
   },
   {
    "duration": 18,
    "start_time": "2023-05-03T15:34:48.299Z"
   },
   {
    "duration": 18,
    "start_time": "2023-05-03T15:34:48.319Z"
   },
   {
    "duration": 7,
    "start_time": "2023-05-03T15:34:48.340Z"
   },
   {
    "duration": 253,
    "start_time": "2023-05-03T15:34:48.349Z"
   },
   {
    "duration": 0,
    "start_time": "2023-05-03T15:34:48.604Z"
   },
   {
    "duration": 0,
    "start_time": "2023-05-03T15:34:48.606Z"
   },
   {
    "duration": 0,
    "start_time": "2023-05-03T15:34:48.691Z"
   },
   {
    "duration": 0,
    "start_time": "2023-05-03T15:34:48.694Z"
   },
   {
    "duration": 0,
    "start_time": "2023-05-03T15:34:48.697Z"
   },
   {
    "duration": 0,
    "start_time": "2023-05-03T15:34:48.699Z"
   },
   {
    "duration": 0,
    "start_time": "2023-05-03T15:34:48.701Z"
   },
   {
    "duration": 343,
    "start_time": "2023-05-03T15:35:00.472Z"
   },
   {
    "duration": 8,
    "start_time": "2023-05-03T15:38:57.260Z"
   },
   {
    "duration": 546,
    "start_time": "2023-05-03T15:38:58.649Z"
   },
   {
    "duration": 5,
    "start_time": "2023-05-03T15:40:52.657Z"
   },
   {
    "duration": 395,
    "start_time": "2023-05-03T15:40:52.665Z"
   },
   {
    "duration": 30,
    "start_time": "2023-05-03T15:40:53.062Z"
   },
   {
    "duration": 22,
    "start_time": "2023-05-03T15:40:53.096Z"
   },
   {
    "duration": 19,
    "start_time": "2023-05-03T15:40:53.120Z"
   },
   {
    "duration": 51,
    "start_time": "2023-05-03T15:40:53.142Z"
   },
   {
    "duration": 30,
    "start_time": "2023-05-03T15:40:53.197Z"
   },
   {
    "duration": 1649,
    "start_time": "2023-05-03T15:40:53.230Z"
   },
   {
    "duration": 22,
    "start_time": "2023-05-03T15:40:54.881Z"
   },
   {
    "duration": 16,
    "start_time": "2023-05-03T15:40:54.906Z"
   },
   {
    "duration": 17,
    "start_time": "2023-05-03T15:40:54.924Z"
   },
   {
    "duration": 49,
    "start_time": "2023-05-03T15:40:54.943Z"
   },
   {
    "duration": 422,
    "start_time": "2023-05-03T15:40:54.995Z"
   },
   {
    "duration": 5,
    "start_time": "2023-05-03T15:40:55.491Z"
   },
   {
    "duration": 95,
    "start_time": "2023-05-03T15:40:55.500Z"
   },
   {
    "duration": 30,
    "start_time": "2023-05-03T15:40:55.597Z"
   },
   {
    "duration": 37,
    "start_time": "2023-05-03T15:40:55.629Z"
   },
   {
    "duration": 0,
    "start_time": "2023-05-03T15:40:55.669Z"
   },
   {
    "duration": 0,
    "start_time": "2023-05-03T15:40:55.671Z"
   },
   {
    "duration": 0,
    "start_time": "2023-05-03T15:40:55.673Z"
   },
   {
    "duration": 463,
    "start_time": "2023-05-03T15:44:42.929Z"
   },
   {
    "duration": 6,
    "start_time": "2023-05-03T15:45:03.706Z"
   },
   {
    "duration": 12,
    "start_time": "2023-05-03T15:46:46.457Z"
   },
   {
    "duration": 3,
    "start_time": "2023-05-03T15:47:17.433Z"
   },
   {
    "duration": 4,
    "start_time": "2023-05-03T15:47:28.570Z"
   },
   {
    "duration": 412,
    "start_time": "2023-05-03T15:48:35.287Z"
   },
   {
    "duration": 3,
    "start_time": "2023-05-03T15:48:41.229Z"
   },
   {
    "duration": 16,
    "start_time": "2023-05-03T15:48:42.759Z"
   },
   {
    "duration": 17,
    "start_time": "2023-05-03T15:49:21.959Z"
   },
   {
    "duration": 4,
    "start_time": "2023-05-03T15:49:25.057Z"
   },
   {
    "duration": 3,
    "start_time": "2023-05-03T15:49:26.082Z"
   },
   {
    "duration": 16,
    "start_time": "2023-05-03T15:49:26.358Z"
   },
   {
    "duration": 4,
    "start_time": "2023-05-03T15:49:57.110Z"
   },
   {
    "duration": 16,
    "start_time": "2023-05-03T15:49:57.480Z"
   },
   {
    "duration": 4,
    "start_time": "2023-05-03T15:59:41.068Z"
   },
   {
    "duration": 15,
    "start_time": "2023-05-03T15:59:42.265Z"
   },
   {
    "duration": 6,
    "start_time": "2023-05-03T16:06:39.018Z"
   },
   {
    "duration": 6,
    "start_time": "2023-05-03T16:10:38.348Z"
   },
   {
    "duration": 1203,
    "start_time": "2023-05-03T16:10:39.519Z"
   },
   {
    "duration": 5,
    "start_time": "2023-05-03T16:12:47.897Z"
   },
   {
    "duration": 6,
    "start_time": "2023-05-03T16:12:54.801Z"
   },
   {
    "duration": 3575,
    "start_time": "2023-05-03T16:12:56.251Z"
   },
   {
    "duration": 1402,
    "start_time": "2023-05-03T16:14:24.341Z"
   },
   {
    "duration": 368,
    "start_time": "2023-05-03T16:14:25.745Z"
   },
   {
    "duration": 20,
    "start_time": "2023-05-03T16:14:26.115Z"
   },
   {
    "duration": 27,
    "start_time": "2023-05-03T16:14:26.137Z"
   },
   {
    "duration": 30,
    "start_time": "2023-05-03T16:14:26.165Z"
   },
   {
    "duration": 35,
    "start_time": "2023-05-03T16:14:26.197Z"
   },
   {
    "duration": 28,
    "start_time": "2023-05-03T16:14:26.233Z"
   },
   {
    "duration": 1698,
    "start_time": "2023-05-03T16:14:26.263Z"
   },
   {
    "duration": 30,
    "start_time": "2023-05-03T16:14:27.963Z"
   },
   {
    "duration": 16,
    "start_time": "2023-05-03T16:14:27.995Z"
   },
   {
    "duration": 15,
    "start_time": "2023-05-03T16:14:28.013Z"
   },
   {
    "duration": 5,
    "start_time": "2023-05-03T16:14:28.030Z"
   },
   {
    "duration": 460,
    "start_time": "2023-05-03T16:14:28.037Z"
   },
   {
    "duration": 3,
    "start_time": "2023-05-03T16:14:28.499Z"
   },
   {
    "duration": 13,
    "start_time": "2023-05-03T16:14:28.591Z"
   },
   {
    "duration": 95,
    "start_time": "2023-05-03T16:14:28.606Z"
   },
   {
    "duration": 8,
    "start_time": "2023-05-03T16:14:28.703Z"
   },
   {
    "duration": 31,
    "start_time": "2023-05-03T16:14:28.713Z"
   },
   {
    "duration": 6,
    "start_time": "2023-05-03T16:14:28.746Z"
   },
   {
    "duration": 3656,
    "start_time": "2023-05-03T16:14:28.754Z"
   },
   {
    "duration": 5,
    "start_time": "2023-05-03T16:14:59.088Z"
   },
   {
    "duration": 3455,
    "start_time": "2023-05-03T16:15:02.562Z"
   },
   {
    "duration": 132,
    "start_time": "2023-05-03T16:15:53.630Z"
   },
   {
    "duration": 3487,
    "start_time": "2023-05-03T16:16:02.688Z"
   },
   {
    "duration": 19,
    "start_time": "2023-05-03T16:16:37.297Z"
   },
   {
    "duration": 3657,
    "start_time": "2023-05-03T16:17:14.840Z"
   },
   {
    "duration": 3882,
    "start_time": "2023-05-03T16:17:26.891Z"
   },
   {
    "duration": 11,
    "start_time": "2023-05-03T16:19:01.392Z"
   },
   {
    "duration": 5,
    "start_time": "2023-05-03T16:19:08.761Z"
   },
   {
    "duration": 15,
    "start_time": "2023-05-03T16:19:12.993Z"
   },
   {
    "duration": 5,
    "start_time": "2023-05-03T16:21:33.733Z"
   },
   {
    "duration": 405,
    "start_time": "2023-05-03T16:21:36.392Z"
   },
   {
    "duration": 3656,
    "start_time": "2023-05-03T16:32:59.639Z"
   },
   {
    "duration": 4100,
    "start_time": "2023-05-03T16:33:14.184Z"
   },
   {
    "duration": 3871,
    "start_time": "2023-05-03T16:33:22.429Z"
   },
   {
    "duration": 5,
    "start_time": "2023-05-03T16:35:27.857Z"
   },
   {
    "duration": 3869,
    "start_time": "2023-05-03T16:35:29.566Z"
   },
   {
    "duration": 1451,
    "start_time": "2023-05-03T16:35:55.422Z"
   },
   {
    "duration": 397,
    "start_time": "2023-05-03T16:35:56.875Z"
   },
   {
    "duration": 35,
    "start_time": "2023-05-03T16:35:57.273Z"
   },
   {
    "duration": 18,
    "start_time": "2023-05-03T16:35:57.310Z"
   },
   {
    "duration": 18,
    "start_time": "2023-05-03T16:35:57.330Z"
   },
   {
    "duration": 44,
    "start_time": "2023-05-03T16:35:57.349Z"
   },
   {
    "duration": 22,
    "start_time": "2023-05-03T16:35:57.395Z"
   },
   {
    "duration": 1679,
    "start_time": "2023-05-03T16:35:57.418Z"
   },
   {
    "duration": 19,
    "start_time": "2023-05-03T16:35:59.100Z"
   },
   {
    "duration": 17,
    "start_time": "2023-05-03T16:35:59.121Z"
   },
   {
    "duration": 13,
    "start_time": "2023-05-03T16:35:59.140Z"
   },
   {
    "duration": 5,
    "start_time": "2023-05-03T16:35:59.155Z"
   },
   {
    "duration": 348,
    "start_time": "2023-05-03T16:35:59.162Z"
   },
   {
    "duration": 2,
    "start_time": "2023-05-03T16:35:59.513Z"
   },
   {
    "duration": 8,
    "start_time": "2023-05-03T16:35:59.594Z"
   },
   {
    "duration": 88,
    "start_time": "2023-05-03T16:35:59.604Z"
   },
   {
    "duration": 5,
    "start_time": "2023-05-03T16:35:59.695Z"
   },
   {
    "duration": 41,
    "start_time": "2023-05-03T16:35:59.702Z"
   },
   {
    "duration": 25,
    "start_time": "2023-05-03T16:35:59.745Z"
   },
   {
    "duration": 3844,
    "start_time": "2023-05-03T16:35:59.771Z"
   },
   {
    "duration": 6,
    "start_time": "2023-05-03T16:40:48.351Z"
   },
   {
    "duration": 3928,
    "start_time": "2023-05-03T16:40:49.271Z"
   },
   {
    "duration": 1524,
    "start_time": "2023-05-03T16:46:00.423Z"
   },
   {
    "duration": 402,
    "start_time": "2023-05-03T16:46:01.949Z"
   },
   {
    "duration": 22,
    "start_time": "2023-05-03T16:46:02.353Z"
   },
   {
    "duration": 39,
    "start_time": "2023-05-03T16:46:02.377Z"
   },
   {
    "duration": 23,
    "start_time": "2023-05-03T16:46:02.418Z"
   },
   {
    "duration": 38,
    "start_time": "2023-05-03T16:46:02.444Z"
   },
   {
    "duration": 23,
    "start_time": "2023-05-03T16:46:02.484Z"
   },
   {
    "duration": 1550,
    "start_time": "2023-05-03T16:46:02.508Z"
   },
   {
    "duration": 18,
    "start_time": "2023-05-03T16:46:04.059Z"
   },
   {
    "duration": 28,
    "start_time": "2023-05-03T16:46:04.078Z"
   },
   {
    "duration": 15,
    "start_time": "2023-05-03T16:46:04.107Z"
   },
   {
    "duration": 6,
    "start_time": "2023-05-03T16:46:04.124Z"
   },
   {
    "duration": 364,
    "start_time": "2023-05-03T16:46:04.131Z"
   },
   {
    "duration": 3,
    "start_time": "2023-05-03T16:46:04.497Z"
   },
   {
    "duration": 4,
    "start_time": "2023-05-03T16:46:04.501Z"
   },
   {
    "duration": 84,
    "start_time": "2023-05-03T16:46:04.515Z"
   },
   {
    "duration": 5,
    "start_time": "2023-05-03T16:46:04.600Z"
   },
   {
    "duration": 12,
    "start_time": "2023-05-03T16:46:04.607Z"
   },
   {
    "duration": 7,
    "start_time": "2023-05-03T16:46:04.621Z"
   },
   {
    "duration": 3872,
    "start_time": "2023-05-03T16:46:04.629Z"
   },
   {
    "duration": 3419,
    "start_time": "2023-05-03T21:11:01.482Z"
   },
   {
    "duration": 411,
    "start_time": "2023-05-03T21:11:04.903Z"
   },
   {
    "duration": 21,
    "start_time": "2023-05-03T21:11:05.316Z"
   },
   {
    "duration": 19,
    "start_time": "2023-05-03T21:11:05.341Z"
   },
   {
    "duration": 30,
    "start_time": "2023-05-03T21:11:05.364Z"
   },
   {
    "duration": 22,
    "start_time": "2023-05-03T21:11:05.417Z"
   },
   {
    "duration": 18,
    "start_time": "2023-05-03T21:11:05.441Z"
   },
   {
    "duration": 1618,
    "start_time": "2023-05-03T21:11:05.462Z"
   },
   {
    "duration": 36,
    "start_time": "2023-05-03T21:11:07.082Z"
   },
   {
    "duration": 19,
    "start_time": "2023-05-03T21:11:07.120Z"
   },
   {
    "duration": 20,
    "start_time": "2023-05-03T21:11:07.141Z"
   },
   {
    "duration": 7,
    "start_time": "2023-05-03T21:11:07.163Z"
   },
   {
    "duration": 460,
    "start_time": "2023-05-03T21:11:07.173Z"
   },
   {
    "duration": 3,
    "start_time": "2023-05-03T21:11:07.719Z"
   },
   {
    "duration": 112,
    "start_time": "2023-05-03T21:11:07.724Z"
   },
   {
    "duration": 11,
    "start_time": "2023-05-03T21:11:07.837Z"
   },
   {
    "duration": 11,
    "start_time": "2023-05-03T21:11:07.850Z"
   },
   {
    "duration": 13,
    "start_time": "2023-05-03T21:11:07.862Z"
   },
   {
    "duration": 5,
    "start_time": "2023-05-03T21:11:07.876Z"
   },
   {
    "duration": 3518,
    "start_time": "2023-05-03T21:11:07.883Z"
   },
   {
    "duration": 4,
    "start_time": "2023-05-03T21:11:12.842Z"
   },
   {
    "duration": 10,
    "start_time": "2023-05-03T21:11:13.022Z"
   },
   {
    "duration": 5,
    "start_time": "2023-05-03T21:11:13.393Z"
   },
   {
    "duration": 3787,
    "start_time": "2023-05-03T21:11:13.571Z"
   },
   {
    "duration": 4,
    "start_time": "2023-05-03T21:11:18.694Z"
   },
   {
    "duration": 8,
    "start_time": "2023-05-03T21:11:18.844Z"
   },
   {
    "duration": 5,
    "start_time": "2023-05-03T21:11:19.155Z"
   },
   {
    "duration": 3948,
    "start_time": "2023-05-03T21:11:19.307Z"
   },
   {
    "duration": 1711,
    "start_time": "2023-05-04T13:06:34.091Z"
   },
   {
    "duration": 924,
    "start_time": "2023-05-04T13:06:35.804Z"
   },
   {
    "duration": 22,
    "start_time": "2023-05-04T13:06:36.730Z"
   },
   {
    "duration": 20,
    "start_time": "2023-05-04T13:06:36.754Z"
   },
   {
    "duration": 23,
    "start_time": "2023-05-04T13:06:36.778Z"
   },
   {
    "duration": 23,
    "start_time": "2023-05-04T13:06:36.803Z"
   },
   {
    "duration": 19,
    "start_time": "2023-05-04T13:06:36.828Z"
   },
   {
    "duration": 1711,
    "start_time": "2023-05-04T13:06:36.849Z"
   },
   {
    "duration": 28,
    "start_time": "2023-05-04T13:06:38.562Z"
   },
   {
    "duration": 16,
    "start_time": "2023-05-04T13:06:38.592Z"
   },
   {
    "duration": 20,
    "start_time": "2023-05-04T13:06:38.610Z"
   },
   {
    "duration": 8,
    "start_time": "2023-05-04T13:06:38.632Z"
   },
   {
    "duration": 548,
    "start_time": "2023-05-04T13:06:38.642Z"
   },
   {
    "duration": 4,
    "start_time": "2023-05-04T13:06:39.193Z"
   },
   {
    "duration": 99,
    "start_time": "2023-05-04T13:06:39.198Z"
   },
   {
    "duration": 5,
    "start_time": "2023-05-04T13:06:39.299Z"
   },
   {
    "duration": 5,
    "start_time": "2023-05-04T13:06:39.306Z"
   },
   {
    "duration": 17,
    "start_time": "2023-05-04T13:06:39.312Z"
   },
   {
    "duration": 19,
    "start_time": "2023-05-04T13:06:39.331Z"
   },
   {
    "duration": 3927,
    "start_time": "2023-05-04T13:06:39.352Z"
   },
   {
    "duration": 3794,
    "start_time": "2023-05-04T13:07:04.725Z"
   },
   {
    "duration": 4076,
    "start_time": "2023-05-04T13:07:18.270Z"
   },
   {
    "duration": 3906,
    "start_time": "2023-05-04T13:07:27.542Z"
   },
   {
    "duration": 6,
    "start_time": "2023-05-04T13:07:56.802Z"
   },
   {
    "duration": 3874,
    "start_time": "2023-05-04T13:07:59.473Z"
   },
   {
    "duration": 3697,
    "start_time": "2023-05-04T13:08:06.266Z"
   },
   {
    "duration": 6,
    "start_time": "2023-05-04T13:13:53.321Z"
   },
   {
    "duration": 4580,
    "start_time": "2023-05-04T13:13:56.936Z"
   },
   {
    "duration": 4879,
    "start_time": "2023-05-04T13:14:04.384Z"
   },
   {
    "duration": 5,
    "start_time": "2023-05-04T13:14:11.881Z"
   },
   {
    "duration": 525,
    "start_time": "2023-05-04T13:14:11.889Z"
   },
   {
    "duration": 22,
    "start_time": "2023-05-04T13:14:12.416Z"
   },
   {
    "duration": 21,
    "start_time": "2023-05-04T13:14:12.440Z"
   },
   {
    "duration": 48,
    "start_time": "2023-05-04T13:14:12.465Z"
   },
   {
    "duration": 26,
    "start_time": "2023-05-04T13:14:12.515Z"
   },
   {
    "duration": 16,
    "start_time": "2023-05-04T13:14:12.543Z"
   },
   {
    "duration": 1975,
    "start_time": "2023-05-04T13:14:12.562Z"
   },
   {
    "duration": 17,
    "start_time": "2023-05-04T13:14:14.539Z"
   },
   {
    "duration": 43,
    "start_time": "2023-05-04T13:14:14.558Z"
   },
   {
    "duration": 25,
    "start_time": "2023-05-04T13:14:14.604Z"
   },
   {
    "duration": 9,
    "start_time": "2023-05-04T13:14:14.631Z"
   },
   {
    "duration": 367,
    "start_time": "2023-05-04T13:14:14.642Z"
   },
   {
    "duration": 71,
    "start_time": "2023-05-04T13:14:15.020Z"
   },
   {
    "duration": 92,
    "start_time": "2023-05-04T13:14:15.099Z"
   },
   {
    "duration": 7,
    "start_time": "2023-05-04T13:14:15.208Z"
   },
   {
    "duration": 25,
    "start_time": "2023-05-04T13:14:15.217Z"
   },
   {
    "duration": 23,
    "start_time": "2023-05-04T13:14:15.243Z"
   },
   {
    "duration": 8,
    "start_time": "2023-05-04T13:14:15.269Z"
   },
   {
    "duration": 4514,
    "start_time": "2023-05-04T13:14:15.279Z"
   },
   {
    "duration": 4119,
    "start_time": "2023-05-04T13:14:23.485Z"
   },
   {
    "duration": 5,
    "start_time": "2023-05-04T13:16:12.037Z"
   },
   {
    "duration": 19,
    "start_time": "2023-05-04T13:16:13.200Z"
   },
   {
    "duration": 11,
    "start_time": "2023-05-04T13:16:16.928Z"
   },
   {
    "duration": 12,
    "start_time": "2023-05-04T13:16:18.689Z"
   },
   {
    "duration": 3991,
    "start_time": "2023-05-04T13:16:21.078Z"
   },
   {
    "duration": 4255,
    "start_time": "2023-05-04T13:16:56.674Z"
   },
   {
    "duration": 4776,
    "start_time": "2023-05-04T13:17:12.056Z"
   },
   {
    "duration": 14,
    "start_time": "2023-05-04T13:17:16.835Z"
   },
   {
    "duration": 5315,
    "start_time": "2023-05-04T13:17:18.113Z"
   },
   {
    "duration": 4970,
    "start_time": "2023-05-04T13:17:26.689Z"
   },
   {
    "duration": 4216,
    "start_time": "2023-05-04T13:17:52.011Z"
   },
   {
    "duration": 8,
    "start_time": "2023-05-04T13:17:58.824Z"
   },
   {
    "duration": 4319,
    "start_time": "2023-05-04T13:17:59.669Z"
   },
   {
    "duration": 4159,
    "start_time": "2023-05-04T13:18:06.445Z"
   },
   {
    "duration": 6,
    "start_time": "2023-05-04T13:18:21.980Z"
   },
   {
    "duration": 4083,
    "start_time": "2023-05-04T13:18:22.918Z"
   },
   {
    "duration": 1738,
    "start_time": "2023-05-04T13:23:04.599Z"
   },
   {
    "duration": 433,
    "start_time": "2023-05-04T13:23:06.339Z"
   },
   {
    "duration": 35,
    "start_time": "2023-05-04T13:23:06.774Z"
   },
   {
    "duration": 25,
    "start_time": "2023-05-04T13:23:06.811Z"
   },
   {
    "duration": 23,
    "start_time": "2023-05-04T13:23:06.839Z"
   },
   {
    "duration": 34,
    "start_time": "2023-05-04T13:23:06.892Z"
   },
   {
    "duration": 19,
    "start_time": "2023-05-04T13:23:06.928Z"
   },
   {
    "duration": 1895,
    "start_time": "2023-05-04T13:23:06.950Z"
   },
   {
    "duration": 21,
    "start_time": "2023-05-04T13:23:08.847Z"
   },
   {
    "duration": 46,
    "start_time": "2023-05-04T13:23:08.871Z"
   },
   {
    "duration": 23,
    "start_time": "2023-05-04T13:23:08.919Z"
   },
   {
    "duration": 8,
    "start_time": "2023-05-04T13:23:08.945Z"
   },
   {
    "duration": 454,
    "start_time": "2023-05-04T13:23:08.955Z"
   },
   {
    "duration": 92,
    "start_time": "2023-05-04T13:23:09.412Z"
   },
   {
    "duration": 86,
    "start_time": "2023-05-04T13:23:09.508Z"
   },
   {
    "duration": 11,
    "start_time": "2023-05-04T13:23:09.596Z"
   },
   {
    "duration": 9,
    "start_time": "2023-05-04T13:23:09.610Z"
   },
   {
    "duration": 16,
    "start_time": "2023-05-04T13:23:09.621Z"
   },
   {
    "duration": 5,
    "start_time": "2023-05-04T13:23:09.640Z"
   },
   {
    "duration": 4156,
    "start_time": "2023-05-04T13:23:09.647Z"
   }
  ],
  "kernelspec": {
   "display_name": "Python 3 (ipykernel)",
   "language": "python",
   "name": "python3"
  },
  "language_info": {
   "codemirror_mode": {
    "name": "ipython",
    "version": 3
   },
   "file_extension": ".py",
   "mimetype": "text/x-python",
   "name": "python",
   "nbconvert_exporter": "python",
   "pygments_lexer": "ipython3",
   "version": "3.10.9"
  },
  "toc": {
   "base_numbering": 1,
   "nav_menu": {},
   "number_sections": true,
   "sideBar": true,
   "skip_h1_title": true,
   "title_cell": "Table of Contents",
   "title_sidebar": "Contents",
   "toc_cell": false,
   "toc_position": {
    "height": "calc(100% - 180px)",
    "left": "10px",
    "top": "150px",
    "width": "244px"
   },
   "toc_section_display": true,
   "toc_window_display": true
  }
 },
 "nbformat": 4,
 "nbformat_minor": 2
}
